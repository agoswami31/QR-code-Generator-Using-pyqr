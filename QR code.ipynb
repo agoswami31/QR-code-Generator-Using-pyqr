{
 "cells": [
  {
   "cell_type": "code",
   "execution_count": 1,
   "metadata": {},
   "outputs": [],
   "source": [
    "# Import QRCode from pyqrcode\n",
    "import pyqrcode\n",
    "import png\n",
    "from pyqrcode import QRCode\n",
    "\n",
    "\n",
    "# String which represents the QR code\n",
    "s = \"https://forms.gle/hTQzScpPZDm7x4ZT7\"\n",
    "\n",
    "# Generate QR code\n",
    "url = pyqrcode.create(s)\n",
    "\n",
    "# Create and save the svg file naming \"rtu.svg\"\n",
    "url.svg(\"scr3.svg\", scale = 8)\n",
    "\n",
    "# Create and save the png file naming \"hotwire.png\"\n",
    "url.png('scr3.png', scale = 6)\n"
   ]
  },
  {
   "cell_type": "code",
   "execution_count": null,
   "metadata": {},
   "outputs": [],
   "source": []
  }
 ],
 "metadata": {
  "kernelspec": {
   "display_name": "Python 3",
   "language": "python",
   "name": "python3"
  },
  "language_info": {
   "codemirror_mode": {
    "name": "ipython",
    "version": 3
   },
   "file_extension": ".py",
   "mimetype": "text/x-python",
   "name": "python",
   "nbconvert_exporter": "python",
   "pygments_lexer": "ipython3",
   "version": "3.8.3"
  }
 },
 "nbformat": 4,
 "nbformat_minor": 4
}
